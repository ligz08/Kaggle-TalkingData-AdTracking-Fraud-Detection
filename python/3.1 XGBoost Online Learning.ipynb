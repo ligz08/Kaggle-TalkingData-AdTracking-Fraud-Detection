{
 "cells": [
  {
   "cell_type": "markdown",
   "metadata": {
    "toc": true
   },
   "source": [
    "<h1>Table of Contents<span class=\"tocSkip\"></span></h1>\n",
    "<div class=\"toc\" style=\"margin-top: 1em;\"><ul class=\"toc-item\"><li><span><a href=\"#Load-stuff\" data-toc-modified-id=\"Load-stuff-1\"><span class=\"toc-item-num\">1&nbsp;&nbsp;</span>Load stuff</a></span><ul class=\"toc-item\"><li><span><a href=\"#Packages\" data-toc-modified-id=\"Packages-1.1\"><span class=\"toc-item-num\">1.1&nbsp;&nbsp;</span>Packages</a></span></li><li><span><a href=\"#Paths\" data-toc-modified-id=\"Paths-1.2\"><span class=\"toc-item-num\">1.2&nbsp;&nbsp;</span>Paths</a></span></li><li><span><a href=\"#Preprocessor\" data-toc-modified-id=\"Preprocessor-1.3\"><span class=\"toc-item-num\">1.3&nbsp;&nbsp;</span>Preprocessor</a></span></li></ul></li><li><span><a href=\"#XGBoost-model-training\" data-toc-modified-id=\"XGBoost-model-training-2\"><span class=\"toc-item-num\">2&nbsp;&nbsp;</span>XGBoost model training</a></span></li></ul></div>"
   ]
  },
  {
   "cell_type": "markdown",
   "metadata": {},
   "source": [
    "## Load stuff"
   ]
  },
  {
   "cell_type": "markdown",
   "metadata": {},
   "source": [
    "### Packages"
   ]
  },
  {
   "cell_type": "code",
   "execution_count": 1,
   "metadata": {},
   "outputs": [],
   "source": [
    "import xgboost as xgb\n",
    "import pandas as pd\n",
    "import numpy as np\n",
    "from tqdm import tqdm, trange, tnrange, tqdm_notebook\n",
    "import os"
   ]
  },
  {
   "cell_type": "markdown",
   "metadata": {},
   "source": [
    "### Paths"
   ]
  },
  {
   "cell_type": "code",
   "execution_count": 2,
   "metadata": {},
   "outputs": [
    {
     "name": "stdout",
     "output_type": "stream",
     "text": [
      "184903890 samples in D:\\Dropbox\\Projects\\Kaggle-TalkingData-AdTracking-Fraud-Detection\\downloads\\train.csv\n",
      "Wall time: 36.6 s\n"
     ]
    }
   ],
   "source": [
    "%%time\n",
    "from HERE import PROJ_ROOT_DIR, DOWNLOADS_DIR, SCRATCH_DIR\n",
    "TRAIN_CSV_PATH = os.path.join(DOWNLOADS_DIR, 'train.csv')\n",
    "TRAIN_N_SAMPLES = sum(1 for row in open(TRAIN_CSV_PATH, 'r'))-1\n",
    "print(TRAIN_N_SAMPLES, 'samples in', TRAIN_CSV_PATH)"
   ]
  },
  {
   "cell_type": "markdown",
   "metadata": {},
   "source": [
    "### Preprocessor"
   ]
  },
  {
   "cell_type": "code",
   "execution_count": 3,
   "metadata": {},
   "outputs": [],
   "source": [
    "from preprocess import Preprocessor, ORIGINAL_FEATURES, CAT_COLS, NUM_COLS, TARGET_COL\n",
    "prep = Preprocessor()"
   ]
  },
  {
   "cell_type": "markdown",
   "metadata": {},
   "source": [
    "## XGBoost model training"
   ]
  },
  {
   "cell_type": "markdown",
   "metadata": {},
   "source": [
    "Training parameters"
   ]
  },
  {
   "cell_type": "code",
   "execution_count": null,
   "metadata": {},
   "outputs": [],
   "source": [
    "CHUNK_SIZE = 100000\n",
    "N_CHUNKS = TRAIN_N_SAMPLES // CHUNK_SIZE + 1\n",
    "N_EPOCHS = 5  # number of times to go over the data\n",
    "try_xgb_params = {'colsample_bytree': 0.4,\n",
    "                  'eta': 0.1,\n",
    "                  'gamma': 2,\n",
    "                  'max_depth': 4,\n",
    "                  'min_child_weight': 100,\n",
    "                  'objective': 'reg:linear',\n",
    "                  'seed': 2018,\n",
    "                  'subsample': 1}"
   ]
  },
  {
   "cell_type": "code",
   "execution_count": null,
   "metadata": {},
   "outputs": [
    {
     "data": {
      "application/vnd.jupyter.widget-view+json": {
       "model_id": "3afde778b57c460e8760115a0951d751",
       "version_major": 2,
       "version_minor": 0
      },
      "text/plain": [
       "HBox(children=(IntProgress(value=0, description='Epoch', max=5), HTML(value='')))"
      ]
     },
     "metadata": {},
     "output_type": "display_data"
    },
    {
     "data": {
      "application/vnd.jupyter.widget-view+json": {
       "model_id": "161feed9dac043bea579c722325eb48e",
       "version_major": 2,
       "version_minor": 0
      },
      "text/plain": [
       "HBox(children=(IntProgress(value=0, description='Chunk in epoch', max=1850), HTML(value='')))"
      ]
     },
     "metadata": {},
     "output_type": "display_data"
    }
   ],
   "source": [
    "%%time\n",
    "xgb_model = None\n",
    "for epoch in tnrange(N_EPOCHS, desc='Epoch', ascii=True, unit='epoch', position=0):\n",
    "    for train_chunk in tqdm_notebook(pd.read_csv(os.path.join(DOWNLOADS_DIR, 'train.csv'), chunksize=CHUNK_SIZE), \n",
    "                            desc='Chunk', ascii=True, position=1, total=N_CHUNKS, leave=False, unit='chunk'):\n",
    "        data_matrix = xgb.DMatrix(prep.transform(train_chunk), train_chunk[TARGET_COL])\n",
    "        xgb_model = xgb.train(params=try_xgb_params, dtrain=data_matrix, xgb_model=xgb_model)"
   ]
  },
  {
   "cell_type": "code",
   "execution_count": null,
   "metadata": {},
   "outputs": [],
   "source": []
  }
 ],
 "metadata": {
  "kernelspec": {
   "display_name": "Python 3",
   "language": "python",
   "name": "python3"
  },
  "language_info": {
   "codemirror_mode": {
    "name": "ipython",
    "version": 3
   },
   "file_extension": ".py",
   "mimetype": "text/x-python",
   "name": "python",
   "nbconvert_exporter": "python",
   "pygments_lexer": "ipython3",
   "version": "3.6.4"
  },
  "toc": {
   "nav_menu": {},
   "number_sections": true,
   "sideBar": true,
   "skip_h1_title": true,
   "toc_cell": true,
   "toc_position": {
    "height": "878px",
    "left": "0px",
    "right": "1507px",
    "top": "111px",
    "width": "351px"
   },
   "toc_section_display": "block",
   "toc_window_display": true
  }
 },
 "nbformat": 4,
 "nbformat_minor": 2
}
