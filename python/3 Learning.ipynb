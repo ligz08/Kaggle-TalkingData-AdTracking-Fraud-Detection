{
 "cells": [
  {
   "cell_type": "markdown",
   "metadata": {
    "toc": true
   },
   "source": [
    "<h1>Table of Contents<span class=\"tocSkip\"></span></h1>\n",
    "<div class=\"toc\" style=\"margin-top: 1em;\"><ul class=\"toc-item\"><li><span><a href=\"#Load-and-Prepare-Data\" data-toc-modified-id=\"Load-and-Prepare-Data-1\"><span class=\"toc-item-num\">1&nbsp;&nbsp;</span>Load and Prepare Data</a></span></li><li><span><a href=\"#Support-Vector-Machines\" data-toc-modified-id=\"Support-Vector-Machines-2\"><span class=\"toc-item-num\">2&nbsp;&nbsp;</span>Support Vector Machines</a></span></li><li><span><a href=\"#Classification\" data-toc-modified-id=\"Classification-3\"><span class=\"toc-item-num\">3&nbsp;&nbsp;</span>Classification</a></span></li></ul></div>"
   ]
  },
  {
   "cell_type": "markdown",
   "metadata": {},
   "source": [
    "# Learning Methodology Implementation"
   ]
  },
  {
   "cell_type": "code",
   "execution_count": null,
   "metadata": {
    "collapsed": true
   },
   "outputs": [],
   "source": [
    "# Import Packages\n",
    "import numpy as np\n",
    "import pandas as pd\n",
    "import matplotlib.pyplot as plt\n",
    "import seaborn as sns\n",
    "from IPython.display import display\n",
    "import scipy.sparse\n",
    "from sklearn.metrics import accuracy_score\n",
    "from matplotlib import pyplot as plt\n",
    "\n",
    "# Programming tools\n",
    "import os\n",
    "import sys\n",
    "import gc\n",
    "\n",
    "# Notebook options\n",
    "%matplotlib inline"
   ]
  },
  {
   "cell_type": "markdown",
   "metadata": {},
   "source": [
    "## Load and Prepare Data"
   ]
  },
  {
   "cell_type": "code",
   "execution_count": null,
   "metadata": {
    "scrolled": true
   },
   "outputs": [],
   "source": [
    "# First load the training datasets\n",
    "X_train = scipy.sparse.load_npz('X_train1.npz')\n",
    "y_train = np.load('y_train1.npy')\n",
    "\n",
    "# Check data type\n",
    "display(type(X_train))\n",
    "display(type(y_train))\n",
    "\n",
    "# Prepare Train and Test Data\n",
    "from sklearn.model_selection import train_test_split\n",
    "trainX, testX, trainy, testy = train_test_split(X_train, y_train, test_size=0.33)"
   ]
  },
  {
   "cell_type": "markdown",
   "metadata": {},
   "source": [
    "## Support Vector Machines"
   ]
  },
  {
   "cell_type": "code",
   "execution_count": null,
   "metadata": {},
   "outputs": [],
   "source": [
    "# Import Packages\n",
    "from sklearn import svm\n",
    "\n",
    "# Check the unique values\n",
    "unique, counts = np.unique(y_train, return_counts=True)\n",
    "dict(zip(unique, counts))"
   ]
  },
  {
   "cell_type": "code",
   "execution_count": null,
   "metadata": {},
   "outputs": [],
   "source": [
    "# Parameters Preparation\n",
    "Cs = (2**-5,2**-4,2**-3,2**-2,2**-1,1,2,2**3,2**5,2**7,2**9,2**11,2**13,2**15)\n",
    "gammas = (2**-15,2**-13,2**-11,2**-9,2**-7,2**-5,2**-3,2**-1,1,2,2**3,2**5)\n",
    "print(degrees,gammas,Cs)"
   ]
  },
  {
   "cell_type": "code",
   "execution_count": null,
   "metadata": {},
   "outputs": [],
   "source": [
    "# Linear Kernel: Tune parameters\n",
    "accuracy_svm_li = []\n",
    "for i in range(len(Cs)):    \n",
    "    svm_linear = svm.SVC(kernel='linear', C=Cs[i], class_weight={1:99773/227})\n",
    "    svm_linear.fit(trainX, trainy)\n",
    "    y_predict_svm_linear = svm_linear.predict(testX)\n",
    "    accuracy_svm_linear=accuracy_score(y_predict_svm_linear,testy)\n",
    "    accuracy_svm_li.append(accuracy_svm_linear)\n",
    "\n",
    "# Plot Linear Kernel: Penalty Parameter vs Accuracy\n",
    "plt.plot(Cs, accuracy_svm_li)\n",
    "plt.ylabel('Accuracy for SVC with Linear Kernel')\n",
    "plt.xlabel('Penalty Parameter C')\n",
    "plt.title('SVC with Linear Kernel')\n",
    "plt.legend()\n",
    "plt.show()"
   ]
  },
  {
   "cell_type": "code",
   "execution_count": null,
   "metadata": {},
   "outputs": [],
   "source": [
    "# RBF Kernel: Tune parameters\n",
    "accuracy_svm_rbf_ = []\n",
    "\n",
    "#for i in range(len(gammas)):\n",
    "svm_rbf = svm.SVC(kernel='rbf', gamma=gammas[4], C=Cs[0], class_weight={1:99773/227})\n",
    "svm_rbf.fit(trainX, trainy)\n",
    "y_predict_svm_rbf = svm_rbf.predict(testX)\n",
    "accuracy_svm_rbf = accuracy_score(y_predict_svm_rbf,testy)\n",
    "accuracy_svm_rbf_.append(accuracy_svm_rbf)"
   ]
  },
  {
   "cell_type": "code",
   "execution_count": null,
   "metadata": {},
   "outputs": [],
   "source": [
    "print(accuracy_svm_rbf_)"
   ]
  },
  {
   "cell_type": "code",
   "execution_count": null,
   "metadata": {},
   "outputs": [],
   "source": [
    "# Plot for Gammas and Accuracy\n",
    "plt.plot(gammas, accuracy_svm_rbf_)\n",
    "plt.ylabel('Accuracy for SVC with RBF Kernel')\n",
    "plt.xlabel('Values of Gammas')\n",
    "plt.title('SVC with RBF Kernel')\n",
    "plt.legend()\n",
    "plt.show()"
   ]
  },
  {
   "cell_type": "markdown",
   "metadata": {},
   "source": [
    "## Classification"
   ]
  },
  {
   "cell_type": "code",
   "execution_count": null,
   "metadata": {},
   "outputs": [],
   "source": [
    "# Load Packages and Prepare Parameters\n",
    "from sklearn.ensemble import AdaBoostClassifier\n",
    "from sklearn.tree import DecisionTreeClassifier\n",
    "from sklearn.ensemble import RandomForestClassifier\n",
    "estimators_sizes = [10,20,30,40,50,60,80,100,120,140,200]\n",
    "max_depths = range(1,4)\n",
    "learn_rate = [0.1,0.3,0.5,0.7,0.9,1.1,1.3,1.5,1.7,1.9]\n",
    "sample_weight = [1/99773 if x==1 else 1/227 for x in trainy ]"
   ]
  },
  {
   "cell_type": "code",
   "execution_count": null,
   "metadata": {},
   "outputs": [],
   "source": [
    "#AdaBoostClassifier: Tune Parameters\n",
    "accuracy_adab_ = []\n",
    "for i in range(len(estimators_sizes)):\n",
    "    dt = DecisionTreeClassifier(max_depth=6) \n",
    "    adab = AdaBoostClassifier(n_estimators=estimators_sizes[i], base_estimator=dt)\n",
    "    adab.fit(trainX,trainy,sample_weight=None)\n",
    "    y_predict_adab = adab.predict(testX)\n",
    "    accuracy_adab=accuracy_score(y_predict_adab,testy)\n",
    "    accuracy_adab_.append(accuracy_adab)\n",
    "\n",
    "# Plot Accuracy vs Number of Estimators\n",
    "plt.plot(estimators_sizes, accuracy_adab_)\n",
    "plt.ylabel('Accuracy for AdaBoostClassifier')\n",
    "plt.xlabel('Estimators_sizes')\n",
    "plt.title('AdaBoostClassifier')\n",
    "plt.legend()\n",
    "plt.show()"
   ]
  },
  {
   "cell_type": "code",
   "execution_count": null,
   "metadata": {},
   "outputs": [],
   "source": [
    "# Random Forest\n",
    "feature_sizes = range(1,20)\n",
    "accuracy_rf_=[]\n",
    "\n",
    "# Tune the parameters\n",
    "for i in range(len(feature_sizes)):\n",
    "    rf = RandomForestClassifier(n_estimators=10,max_depth=max_depths[2],max_features=feature_sizes[i],class_weight={1:99773/227})\n",
    "    rf.fit(trainX,trainy)\n",
    "    y_predict_rf = rf.predict(testX)\n",
    "    accuracy_rf=accuracy_score(y_predict_rf,testy)\n",
    "    accuracy_rf_.append(accuracy_rf)\n",
    "print(accuracy_rf_)\n",
    "\n",
    "# Plot Accuracy vs Maximum Number of Features\n",
    "plt.plot(feature_sizes, accuracy_rf_)\n",
    "plt.ylabel('Accuracy for RandomForest')\n",
    "plt.xlabel('Feature_sizes')\n",
    "plt.title('RandomForestClassifier')\n",
    "plt.legend()\n",
    "plt.show()"
   ]
  },
  {
   "cell_type": "code",
   "execution_count": null,
   "metadata": {},
   "outputs": [],
   "source": [
    "# LightGBM Model\n",
    "import lightgbm as lgb\n",
    "\n",
    "# Prepare Variables and Parameters\n",
    "predictors = cat_cols.extend(num_cols)\n",
    "leaf_sizes = range(25,40)\n",
    "learn_rate = range(1,110)\n",
    "min_data_in_leaf_sizes = range(30,100,10)\n",
    "params = {}\n",
    "params['learning_rate'] = 0.003\n",
    "params['boosting_type'] = 'gbdt'\n",
    "params['objective'] = 'binary'\n",
    "params['metric'] = 'binary_logloss'\n",
    "params['sub_feature'] = 0.5\n",
    "params['num_leaves'] = 45\n",
    "params['min_data_in_leaf'] = min_data_in_leaf_sizes[0]\n",
    "params['max_depth'] = max_depths[2]\n",
    "\n",
    "cat_cols = ['ip', 'app', 'device', 'os', 'channel', 'click_minute_mod15', 'click_second_mod5']\n",
    "num_cols = ['click_hour', 'click_minute', 'click_second', \n",
    "            'clicks_by_ip', 'downloads_by_ip', 'download_ratio_by_ip', \n",
    "            'clicks_by_app', 'downloads_by_app', 'download_ratio_by_app', \n",
    "            'clicks_by_device', 'downloads_by_device', 'download_ratio_by_device', \n",
    "            'clicks_by_os', 'downloads_by_os', 'download_ratio_by_os', \n",
    "            'clicks_by_channel', 'downloads_by_channel', 'download_ratio_by_channel']\n",
    "target_col = 'is_attributed'\n",
    "\n",
    "# Implement Model \n",
    "d_train = lgb.Dataset(trainX, feature_name=predictors, label=trainy)\n",
    "lightgbm = lgb.train(params, d_train, 100)"
   ]
  },
  {
   "cell_type": "code",
   "execution_count": null,
   "metadata": {},
   "outputs": [],
   "source": [
    "accuracy_lightgbm_=[]\n",
    "learn = []\n",
    "\n",
    "# Tune Parameters\n",
    "for j in range(105): \n",
    "    params['learning_rate'] = learn_rate[j]/1000.0\n",
    "    learn.append(params['learning_rate'])\n",
    "    lightgbm = lgb.train(params, d_train, 100)   \n",
    "    y_predict_lightgbm = lightgbm.predict(testX)\n",
    "    for i in range(0,len(y_predict_lightgbm)):\n",
    "        if y_predict_lightgbm[i]>=.5:       # setting threshold to .5\n",
    "           y_predict_lightgbm[i]=1\n",
    "        else:  \n",
    "           y_predict_lightgbm[i]=0\n",
    "    accuracy_lightgbm=accuracy_score(y_predict_lightgbm,testy)\n",
    "    accuracy_lightgbm_.append(accuracy_lightgbm)\n",
    "    \n",
    "#Plot learning rate and number of boosting round\n",
    "plt.plot(learn, accuracy_lightgbm_)\n",
    "plt.ylabel('Accuracy for LightGBM')\n",
    "plt.xlabel('Learing_rate')\n",
    "plt.title('LightGBM')\n",
    "plt.legend()\n",
    "plt.show()"
   ]
  }
 ],
 "metadata": {
  "anaconda-cloud": {},
  "kernelspec": {
   "display_name": "Python 3",
   "language": "python",
   "name": "python3"
  },
  "language_info": {
   "codemirror_mode": {
    "name": "ipython",
    "version": 3
   },
   "file_extension": ".py",
   "mimetype": "text/x-python",
   "name": "python",
   "nbconvert_exporter": "python",
   "pygments_lexer": "ipython3",
   "version": "3.6.3"
  },
  "toc": {
   "nav_menu": {},
   "number_sections": true,
   "sideBar": true,
   "skip_h1_title": true,
   "toc_cell": true,
   "toc_position": {
    "height": "831px",
    "left": "0px",
    "right": "20px",
    "top": "107px",
    "width": "350px"
   },
   "toc_section_display": "block",
   "toc_window_display": true
  }
 },
 "nbformat": 4,
 "nbformat_minor": 2
}
