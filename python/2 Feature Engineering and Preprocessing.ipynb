{
 "cells": [
  {
   "cell_type": "markdown",
   "metadata": {
    "toc": true
   },
   "source": [
    "<h1>Table of Contents<span class=\"tocSkip\"></span></h1>\n",
    "<div class=\"toc\" style=\"margin-top: 1em;\"><ul class=\"toc-item\"><li><span><a href=\"#Load\" data-toc-modified-id=\"Load-1\"><span class=\"toc-item-num\">1&nbsp;&nbsp;</span>Load</a></span></li><li><span><a href=\"#Feature-Engineering\" data-toc-modified-id=\"Feature-Engineering-2\"><span class=\"toc-item-num\">2&nbsp;&nbsp;</span>Feature Engineering</a></span><ul class=\"toc-item\"><li><span><a href=\"#Datetime-features\" data-toc-modified-id=\"Datetime-features-2.1\"><span class=\"toc-item-num\">2.1&nbsp;&nbsp;</span>Datetime features</a></span></li><li><span><a href=\"#Click-&amp;-download-stats\" data-toc-modified-id=\"Click-&amp;-download-stats-2.2\"><span class=\"toc-item-num\">2.2&nbsp;&nbsp;</span>Click &amp; download stats</a></span></li><li><span><a href=\"#Find-recurring-ip,-os,-device,-etc,-and-set-non-recurring-ones-to-0-(meaning-'other')\" data-toc-modified-id=\"Find-recurring-ip,-os,-device,-etc,-and-set-non-recurring-ones-to-0-(meaning-'other')-2.3\"><span class=\"toc-item-num\">2.3&nbsp;&nbsp;</span>Find recurring <code>ip</code>, <code>os</code>, <code>device</code>, etc, and set non-recurring ones to 0 (meaning 'other')</a></span></li></ul></li><li><span><a href=\"#Preprocessing\" data-toc-modified-id=\"Preprocessing-3\"><span class=\"toc-item-num\">3&nbsp;&nbsp;</span>Preprocessing</a></span><ul class=\"toc-item\"><li><span><a href=\"#One-hot-encode-categorical-features\" data-toc-modified-id=\"One-hot-encode-categorical-features-3.1\"><span class=\"toc-item-num\">3.1&nbsp;&nbsp;</span>One-hot encode categorical features</a></span></li><li><span><a href=\"#Combine-numeric-and-categorical-(onehot-encoded)-features-to-big-matrices\" data-toc-modified-id=\"Combine-numeric-and-categorical-(onehot-encoded)-features-to-big-matrices-3.2\"><span class=\"toc-item-num\">3.2&nbsp;&nbsp;</span>Combine numeric and categorical (onehot-encoded) features to big matrices</a></span></li></ul></li><li><span><a href=\"#Save-data-objects\" data-toc-modified-id=\"Save-data-objects-4\"><span class=\"toc-item-num\">4&nbsp;&nbsp;</span>Save data objects</a></span></li></ul></div>"
   ]
  },
  {
   "cell_type": "markdown",
   "metadata": {},
   "source": [
    "## Load"
   ]
  },
  {
   "cell_type": "markdown",
   "metadata": {},
   "source": [
    "Packages"
   ]
  },
  {
   "cell_type": "code",
   "execution_count": 1,
   "metadata": {
    "collapsed": true
   },
   "outputs": [],
   "source": [
    "# Data tools\n",
    "import numpy as np\n",
    "import pandas as pd\n",
    "import matplotlib.pyplot as plt\n",
    "import seaborn as sns\n",
    "import psycopg2\n",
    "\n",
    "# Programming tools\n",
    "import os\n",
    "import sys\n",
    "import gc\n",
    "from tqdm import tqdm\n",
    "\n",
    "# Notebook options\n",
    "%matplotlib inline\n",
    "pd.set_option('display.max_columns', 0)"
   ]
  },
  {
   "cell_type": "markdown",
   "metadata": {},
   "source": [
    "Paths"
   ]
  },
  {
   "cell_type": "code",
   "execution_count": 64,
   "metadata": {},
   "outputs": [
    {
     "name": "stdout",
     "output_type": "stream",
     "text": [
      "import os\n",
      "\n",
      "PYTHON_SCRIPTS_DIR = os.path.dirname(os.path.realpath(__file__))\n",
      "PROJ_ROOT_DIR = os.path.abspath(os.path.join(PYTHON_SCRIPTS_DIR, os.pardir))\n",
      "SCRATCH_DIR = os.path.join(PROJ_ROOT_DIR, 'scratch')\n",
      "DOWNLOADS_DIR = os.path.join(PROJ_ROOT_DIR, 'downloads')\n"
     ]
    }
   ],
   "source": [
    "from HERE import *\n",
    "!type HERE.py"
   ]
  },
  {
   "cell_type": "markdown",
   "metadata": {},
   "source": [
    "Data"
   ]
  },
  {
   "cell_type": "code",
   "execution_count": 3,
   "metadata": {},
   "outputs": [
    {
     "name": "stdout",
     "output_type": "stream",
     "text": [
      "Wall time: 12.8 s\n"
     ]
    }
   ],
   "source": [
    "%%time\n",
    "use_train_set = 'train_1Msample'\n",
    "# available choices for use_train_set: \n",
    "#     'train': the full training data set (7.5G csv)\n",
    "#     'train_sample': a small sample of train, with 100K records\n",
    "#     'train_1Msample': a random sample of train, with 1M records\n",
    "\n",
    "train = pd.read_csv(os.path.join(DOWNLOADS_DIR, '{}.csv'.format(use_train_set)))\n",
    "test = pd.read_csv(os.path.join(DOWNLOADS_DIR, 'test.csv'))"
   ]
  },
  {
   "cell_type": "markdown",
   "metadata": {},
   "source": [
    "## Feature Engineering"
   ]
  },
  {
   "cell_type": "code",
   "execution_count": 4,
   "metadata": {},
   "outputs": [
    {
     "name": "stdout",
     "output_type": "stream",
     "text": [
      "train shape: (1000000, 8)\n",
      "test shape: (18790469, 7)\n"
     ]
    }
   ],
   "source": [
    "print('train shape:', train.shape)\n",
    "print('test shape:', test.shape)"
   ]
  },
  {
   "cell_type": "code",
   "execution_count": 5,
   "metadata": {},
   "outputs": [
    {
     "data": {
      "text/html": [
       "<div>\n",
       "<style scoped>\n",
       "    .dataframe tbody tr th:only-of-type {\n",
       "        vertical-align: middle;\n",
       "    }\n",
       "\n",
       "    .dataframe tbody tr th {\n",
       "        vertical-align: top;\n",
       "    }\n",
       "\n",
       "    .dataframe thead th {\n",
       "        text-align: right;\n",
       "    }\n",
       "</style>\n",
       "<table border=\"1\" class=\"dataframe\">\n",
       "  <thead>\n",
       "    <tr style=\"text-align: right;\">\n",
       "      <th></th>\n",
       "      <th>ip</th>\n",
       "      <th>app</th>\n",
       "      <th>device</th>\n",
       "      <th>os</th>\n",
       "      <th>channel</th>\n",
       "      <th>click_time</th>\n",
       "      <th>attributed_time</th>\n",
       "      <th>is_attributed</th>\n",
       "    </tr>\n",
       "  </thead>\n",
       "  <tbody>\n",
       "    <tr>\n",
       "      <th>0</th>\n",
       "      <td>12031</td>\n",
       "      <td>13</td>\n",
       "      <td>1</td>\n",
       "      <td>13</td>\n",
       "      <td>477</td>\n",
       "      <td>2017-11-08 06:13:45</td>\n",
       "      <td>NaN</td>\n",
       "      <td>0</td>\n",
       "    </tr>\n",
       "    <tr>\n",
       "      <th>1</th>\n",
       "      <td>24847</td>\n",
       "      <td>12</td>\n",
       "      <td>1</td>\n",
       "      <td>9</td>\n",
       "      <td>178</td>\n",
       "      <td>2017-11-09 11:58:43</td>\n",
       "      <td>NaN</td>\n",
       "      <td>0</td>\n",
       "    </tr>\n",
       "    <tr>\n",
       "      <th>2</th>\n",
       "      <td>23102</td>\n",
       "      <td>18</td>\n",
       "      <td>1</td>\n",
       "      <td>19</td>\n",
       "      <td>121</td>\n",
       "      <td>2017-11-08 14:43:57</td>\n",
       "      <td>NaN</td>\n",
       "      <td>0</td>\n",
       "    </tr>\n",
       "    <tr>\n",
       "      <th>3</th>\n",
       "      <td>43980</td>\n",
       "      <td>12</td>\n",
       "      <td>1</td>\n",
       "      <td>18</td>\n",
       "      <td>245</td>\n",
       "      <td>2017-11-08 00:02:07</td>\n",
       "      <td>NaN</td>\n",
       "      <td>0</td>\n",
       "    </tr>\n",
       "    <tr>\n",
       "      <th>4</th>\n",
       "      <td>122830</td>\n",
       "      <td>1</td>\n",
       "      <td>1</td>\n",
       "      <td>13</td>\n",
       "      <td>115</td>\n",
       "      <td>2017-11-07 05:59:47</td>\n",
       "      <td>NaN</td>\n",
       "      <td>0</td>\n",
       "    </tr>\n",
       "  </tbody>\n",
       "</table>\n",
       "</div>"
      ],
      "text/plain": [
       "       ip  app  device  os  channel           click_time attributed_time  is_attributed\n",
       "0   12031   13       1  13      477  2017-11-08 06:13:45             NaN              0\n",
       "1   24847   12       1   9      178  2017-11-09 11:58:43             NaN              0\n",
       "2   23102   18       1  19      121  2017-11-08 14:43:57             NaN              0\n",
       "3   43980   12       1  18      245  2017-11-08 00:02:07             NaN              0\n",
       "4  122830    1       1  13      115  2017-11-07 05:59:47             NaN              0"
      ]
     },
     "execution_count": 5,
     "metadata": {},
     "output_type": "execute_result"
    }
   ],
   "source": [
    "train.head()"
   ]
  },
  {
   "cell_type": "code",
   "execution_count": 6,
   "metadata": {},
   "outputs": [
    {
     "name": "stdout",
     "output_type": "stream",
     "text": [
      "<class 'pandas.core.frame.DataFrame'>\n",
      "RangeIndex: 1000000 entries, 0 to 999999\n",
      "Data columns (total 8 columns):\n",
      "ip                 1000000 non-null int64\n",
      "app                1000000 non-null int64\n",
      "device             1000000 non-null int64\n",
      "os                 1000000 non-null int64\n",
      "channel            1000000 non-null int64\n",
      "click_time         1000000 non-null object\n",
      "attributed_time    2498 non-null object\n",
      "is_attributed      1000000 non-null int64\n",
      "dtypes: int64(6), object(2)\n",
      "memory usage: 61.0+ MB\n"
     ]
    },
    {
     "data": {
      "text/plain": [
       "None"
      ]
     },
     "metadata": {},
     "output_type": "display_data"
    },
    {
     "name": "stdout",
     "output_type": "stream",
     "text": [
      "<class 'pandas.core.frame.DataFrame'>\n",
      "RangeIndex: 18790469 entries, 0 to 18790468\n",
      "Data columns (total 7 columns):\n",
      "click_id      int64\n",
      "ip            int64\n",
      "app           int64\n",
      "device        int64\n",
      "os            int64\n",
      "channel       int64\n",
      "click_time    object\n",
      "dtypes: int64(6), object(1)\n",
      "memory usage: 1003.5+ MB\n"
     ]
    },
    {
     "data": {
      "text/plain": [
       "None"
      ]
     },
     "metadata": {},
     "output_type": "display_data"
    }
   ],
   "source": [
    "display(train.info())\n",
    "display(test.info())"
   ]
  },
  {
   "cell_type": "markdown",
   "metadata": {},
   "source": [
    "Drop the `attributed_time` column of training data, because it is not available in test data."
   ]
  },
  {
   "cell_type": "code",
   "execution_count": 7,
   "metadata": {
    "collapsed": true
   },
   "outputs": [],
   "source": [
    "train.drop(columns=['attributed_time'], inplace=True)"
   ]
  },
  {
   "cell_type": "markdown",
   "metadata": {},
   "source": [
    "### Datetime features"
   ]
  },
  {
   "cell_type": "code",
   "execution_count": 8,
   "metadata": {},
   "outputs": [
    {
     "name": "stdout",
     "output_type": "stream",
     "text": [
      "Wall time: 7.21 s\n"
     ]
    }
   ],
   "source": [
    "%%time\n",
    "\n",
    "def extend_datetime_features(df):\n",
    "    df['click_time'] = pd.to_datetime(df['click_time'])\n",
    "    df['click_hour'] = df['click_time'].dt.hour\n",
    "    df['click_minute'] = df['click_time'].dt.minute\n",
    "    df['click_second'] = df['click_time'].dt.second\n",
    "    df['click_minute_mod15'] = df['click_minute'] % 15\n",
    "    df['click_second_mod5'] = df['click_second'] % 5\n",
    "    return df\n",
    "\n",
    "train = extend_datetime_features(train)\n",
    "test = extend_datetime_features(test)\n",
    "\n",
    "train.head()"
   ]
  },
  {
   "cell_type": "markdown",
   "metadata": {},
   "source": [
    "### Click & download stats"
   ]
  },
  {
   "cell_type": "markdown",
   "metadata": {},
   "source": [
    "Create click & download counts grouped by different features."
   ]
  },
  {
   "cell_type": "code",
   "execution_count": 9,
   "metadata": {},
   "outputs": [
    {
     "name": "stdout",
     "output_type": "stream",
     "text": [
      "Wall time: 204 ms\n"
     ]
    }
   ],
   "source": [
    "%%time\n",
    "stats_by_ = {}\n",
    "force_regenerate = False  # force re-calculate stats from current training set. If False, will read these stats from `scratch/` folder\n",
    "original_features = ['ip', 'app', 'device', 'os', 'channel']\n",
    "\n",
    "for ft in original_features:\n",
    "    # For each feature (ip, app, device, etc.) count clicks and downloads grouped by that feature\n",
    "    # you'll have columns like `clicks_by_ip`, `downloads_by_ip`, `download_ratio_by_ip`, `clicks_by_app`, ...\n",
    "    csv_file_path = os.path.join(SCRATCH_DIR, 'stats_by_{}.csv'.format(ft))\n",
    "    if not os.path.exists(csv_file_path) or force_regenerate:\n",
    "        stats = train.groupby(ft).agg({'is_attributed': ['size', 'sum']})\n",
    "        stats.columns = stats.columns.droplevel(0)\n",
    "        cl_colname, dl_colname, ratio_colname = [col+'_by_'+ft for col in ['clicks', 'downloads', 'download_ratio']]\n",
    "        stats.rename(columns={'size':cl_colname, 'sum':dl_colname}, inplace=True)\n",
    "        stats[ratio_colname] = stats[dl_colname] / stats[cl_colname]\n",
    "\n",
    "        # Save the stats to csv file in scrach folder\n",
    "        stats.to_csv()\n",
    "        stats_by_[ft] = stats\n",
    "        gc.collect()\n",
    "    else:\n",
    "        stats_by_[ft] = pd.read_csv(csv_file_path).set_index(ft)"
   ]
  },
  {
   "cell_type": "markdown",
   "metadata": {},
   "source": [
    "Define a function that adds by-feature stats to a dataframe."
   ]
  },
  {
   "cell_type": "code",
   "execution_count": 10,
   "metadata": {
    "collapsed": true
   },
   "outputs": [],
   "source": [
    "def add_stats_by_feature(df, stats_by_feature):\n",
    "    for ft in stats_by_feature.keys():\n",
    "        if ft not in df.columns:\n",
    "            print('{} not found in dataframe, no merge happens.'.format(ft))\n",
    "            continue\n",
    "        df = df.merge(stats_by_feature[ft], how='left', left_on=ft, right_index=True)\n",
    "    df.fillna({col: 0 for col in stats_by_feature[ft].columns}, inplace=True)\n",
    "    return df"
   ]
  },
  {
   "cell_type": "markdown",
   "metadata": {},
   "source": [
    "Add the stats to `train` data set.  \n",
    "Caution: The following cell may crash when `train` is too large."
   ]
  },
  {
   "cell_type": "code",
   "execution_count": 11,
   "metadata": {},
   "outputs": [
    {
     "name": "stdout",
     "output_type": "stream",
     "text": [
      "Wall time: 22.1 s\n"
     ]
    }
   ],
   "source": [
    "%%time\n",
    "train = add_stats_by_feature(train, stats_by_)\n",
    "test = add_stats_by_feature(test, stats_by_)"
   ]
  },
  {
   "cell_type": "code",
   "execution_count": 12,
   "metadata": {
    "scrolled": false
   },
   "outputs": [
    {
     "name": "stdout",
     "output_type": "stream",
     "text": [
      "train shape: (1000000, 27)\n"
     ]
    },
    {
     "data": {
      "text/html": [
       "<div>\n",
       "<style scoped>\n",
       "    .dataframe tbody tr th:only-of-type {\n",
       "        vertical-align: middle;\n",
       "    }\n",
       "\n",
       "    .dataframe tbody tr th {\n",
       "        vertical-align: top;\n",
       "    }\n",
       "\n",
       "    .dataframe thead th {\n",
       "        text-align: right;\n",
       "    }\n",
       "</style>\n",
       "<table border=\"1\" class=\"dataframe\">\n",
       "  <thead>\n",
       "    <tr style=\"text-align: right;\">\n",
       "      <th></th>\n",
       "      <th>ip</th>\n",
       "      <th>app</th>\n",
       "      <th>device</th>\n",
       "      <th>os</th>\n",
       "      <th>channel</th>\n",
       "      <th>click_time</th>\n",
       "      <th>is_attributed</th>\n",
       "      <th>click_hour</th>\n",
       "      <th>click_minute</th>\n",
       "      <th>click_second</th>\n",
       "      <th>click_minute_mod15</th>\n",
       "      <th>click_second_mod5</th>\n",
       "      <th>clicks_by_ip</th>\n",
       "      <th>downloads_by_ip</th>\n",
       "      <th>download_ratio_by_ip</th>\n",
       "      <th>clicks_by_app</th>\n",
       "      <th>downloads_by_app</th>\n",
       "      <th>download_ratio_by_app</th>\n",
       "      <th>clicks_by_device</th>\n",
       "      <th>downloads_by_device</th>\n",
       "      <th>download_ratio_by_device</th>\n",
       "      <th>clicks_by_os</th>\n",
       "      <th>downloads_by_os</th>\n",
       "      <th>download_ratio_by_os</th>\n",
       "      <th>clicks_by_channel</th>\n",
       "      <th>downloads_by_channel</th>\n",
       "      <th>download_ratio_by_channel</th>\n",
       "    </tr>\n",
       "  </thead>\n",
       "  <tbody>\n",
       "    <tr>\n",
       "      <th>0</th>\n",
       "      <td>12031</td>\n",
       "      <td>13</td>\n",
       "      <td>1</td>\n",
       "      <td>13</td>\n",
       "      <td>477</td>\n",
       "      <td>2017-11-08 06:13:45</td>\n",
       "      <td>0</td>\n",
       "      <td>6</td>\n",
       "      <td>13</td>\n",
       "      <td>45</td>\n",
       "      <td>13</td>\n",
       "      <td>0</td>\n",
       "      <td>22523</td>\n",
       "      <td>28</td>\n",
       "      <td>0.001243</td>\n",
       "      <td>4329409</td>\n",
       "      <td>721</td>\n",
       "      <td>0.000167</td>\n",
       "      <td>174330052</td>\n",
       "      <td>306495</td>\n",
       "      <td>0.001758</td>\n",
       "      <td>39782808</td>\n",
       "      <td>61622</td>\n",
       "      <td>0.001549</td>\n",
       "      <td>7188340</td>\n",
       "      <td>1212</td>\n",
       "      <td>0.000169</td>\n",
       "    </tr>\n",
       "    <tr>\n",
       "      <th>1</th>\n",
       "      <td>24847</td>\n",
       "      <td>12</td>\n",
       "      <td>1</td>\n",
       "      <td>9</td>\n",
       "      <td>178</td>\n",
       "      <td>2017-11-09 11:58:43</td>\n",
       "      <td>0</td>\n",
       "      <td>11</td>\n",
       "      <td>58</td>\n",
       "      <td>43</td>\n",
       "      <td>13</td>\n",
       "      <td>3</td>\n",
       "      <td>33597</td>\n",
       "      <td>22</td>\n",
       "      <td>0.000655</td>\n",
       "      <td>24179003</td>\n",
       "      <td>2640</td>\n",
       "      <td>0.000109</td>\n",
       "      <td>174330052</td>\n",
       "      <td>306495</td>\n",
       "      <td>0.001758</td>\n",
       "      <td>4370878</td>\n",
       "      <td>3189</td>\n",
       "      <td>0.000730</td>\n",
       "      <td>5271408</td>\n",
       "      <td>627</td>\n",
       "      <td>0.000119</td>\n",
       "    </tr>\n",
       "    <tr>\n",
       "      <th>2</th>\n",
       "      <td>23102</td>\n",
       "      <td>18</td>\n",
       "      <td>1</td>\n",
       "      <td>19</td>\n",
       "      <td>121</td>\n",
       "      <td>2017-11-08 14:43:57</td>\n",
       "      <td>0</td>\n",
       "      <td>14</td>\n",
       "      <td>43</td>\n",
       "      <td>57</td>\n",
       "      <td>13</td>\n",
       "      <td>2</td>\n",
       "      <td>13917</td>\n",
       "      <td>14</td>\n",
       "      <td>0.001006</td>\n",
       "      <td>15756587</td>\n",
       "      <td>7919</td>\n",
       "      <td>0.000503</td>\n",
       "      <td>174330052</td>\n",
       "      <td>306495</td>\n",
       "      <td>0.001758</td>\n",
       "      <td>44181914</td>\n",
       "      <td>79669</td>\n",
       "      <td>0.001803</td>\n",
       "      <td>4692438</td>\n",
       "      <td>2055</td>\n",
       "      <td>0.000438</td>\n",
       "    </tr>\n",
       "    <tr>\n",
       "      <th>3</th>\n",
       "      <td>43980</td>\n",
       "      <td>12</td>\n",
       "      <td>1</td>\n",
       "      <td>18</td>\n",
       "      <td>245</td>\n",
       "      <td>2017-11-08 00:02:07</td>\n",
       "      <td>0</td>\n",
       "      <td>0</td>\n",
       "      <td>2</td>\n",
       "      <td>7</td>\n",
       "      <td>2</td>\n",
       "      <td>2</td>\n",
       "      <td>2049</td>\n",
       "      <td>4</td>\n",
       "      <td>0.001952</td>\n",
       "      <td>24179003</td>\n",
       "      <td>2640</td>\n",
       "      <td>0.000109</td>\n",
       "      <td>174330052</td>\n",
       "      <td>306495</td>\n",
       "      <td>0.001758</td>\n",
       "      <td>8974159</td>\n",
       "      <td>11682</td>\n",
       "      <td>0.001302</td>\n",
       "      <td>8873025</td>\n",
       "      <td>829</td>\n",
       "      <td>0.000093</td>\n",
       "    </tr>\n",
       "    <tr>\n",
       "      <th>4</th>\n",
       "      <td>122830</td>\n",
       "      <td>1</td>\n",
       "      <td>1</td>\n",
       "      <td>13</td>\n",
       "      <td>115</td>\n",
       "      <td>2017-11-07 05:59:47</td>\n",
       "      <td>0</td>\n",
       "      <td>5</td>\n",
       "      <td>59</td>\n",
       "      <td>47</td>\n",
       "      <td>14</td>\n",
       "      <td>2</td>\n",
       "      <td>6888</td>\n",
       "      <td>11</td>\n",
       "      <td>0.001597</td>\n",
       "      <td>5796274</td>\n",
       "      <td>1230</td>\n",
       "      <td>0.000212</td>\n",
       "      <td>174330052</td>\n",
       "      <td>306495</td>\n",
       "      <td>0.001758</td>\n",
       "      <td>39782808</td>\n",
       "      <td>61622</td>\n",
       "      <td>0.001549</td>\n",
       "      <td>1384504</td>\n",
       "      <td>196</td>\n",
       "      <td>0.000142</td>\n",
       "    </tr>\n",
       "  </tbody>\n",
       "</table>\n",
       "</div>"
      ],
      "text/plain": [
       "       ip  app            ...              downloads_by_channel  download_ratio_by_channel\n",
       "0   12031   13            ...                              1212                   0.000169\n",
       "1   24847   12            ...                               627                   0.000119\n",
       "2   23102   18            ...                              2055                   0.000438\n",
       "3   43980   12            ...                               829                   0.000093\n",
       "4  122830    1            ...                               196                   0.000142\n",
       "\n",
       "[5 rows x 27 columns]"
      ]
     },
     "metadata": {},
     "output_type": "display_data"
    }
   ],
   "source": [
    "print('train shape:', train.shape)\n",
    "display(train.head())"
   ]
  },
  {
   "cell_type": "markdown",
   "metadata": {},
   "source": [
    "### Find recurring `ip`, `os`, `device`, etc, and set non-recurring ones to 0 (meaning 'other')\n",
    "\"Recurring\" IPs are those who had more than 1 downlad\n",
    "\n",
    "This makes one-hot encoding easier."
   ]
  },
  {
   "cell_type": "code",
   "execution_count": 13,
   "metadata": {
    "scrolled": true
   },
   "outputs": [
    {
     "name": "stdout",
     "output_type": "stream",
     "text": [
      "49606 recurring ip\n",
      "187 recurring app\n",
      "1126 recurring device\n",
      "103 recurring os\n",
      "164 recurring channel\n"
     ]
    }
   ],
   "source": [
    "recurring_ = {}\n",
    "for ft in original_features:\n",
    "    is_recurring = stats_by_[ft]['downloads_by_'+ft]>1\n",
    "    recurring_[ft] = set(stats_by_[ft].index[is_recurring].tolist())\n",
    "    print(len(recurring_[ft]), 'recurring', ft)"
   ]
  },
  {
   "cell_type": "code",
   "execution_count": 14,
   "metadata": {},
   "outputs": [
    {
     "name": "stdout",
     "output_type": "stream",
     "text": [
      "Wall time: 1.63 s\n"
     ]
    }
   ],
   "source": [
    "%%time\n",
    "for ft in original_features:\n",
    "    train[ft] = train[ft].apply(lambda x: x if x in recurring_[ft] else 0)"
   ]
  },
  {
   "cell_type": "markdown",
   "metadata": {},
   "source": [
    "## Preprocessing"
   ]
  },
  {
   "cell_type": "code",
   "execution_count": 15,
   "metadata": {},
   "outputs": [
    {
     "data": {
      "text/html": [
       "<div>\n",
       "<style scoped>\n",
       "    .dataframe tbody tr th:only-of-type {\n",
       "        vertical-align: middle;\n",
       "    }\n",
       "\n",
       "    .dataframe tbody tr th {\n",
       "        vertical-align: top;\n",
       "    }\n",
       "\n",
       "    .dataframe thead th {\n",
       "        text-align: right;\n",
       "    }\n",
       "</style>\n",
       "<table border=\"1\" class=\"dataframe\">\n",
       "  <thead>\n",
       "    <tr style=\"text-align: right;\">\n",
       "      <th></th>\n",
       "      <th>ip</th>\n",
       "      <th>app</th>\n",
       "      <th>device</th>\n",
       "      <th>os</th>\n",
       "      <th>channel</th>\n",
       "      <th>click_time</th>\n",
       "      <th>is_attributed</th>\n",
       "      <th>click_hour</th>\n",
       "      <th>click_minute</th>\n",
       "      <th>click_second</th>\n",
       "      <th>click_minute_mod15</th>\n",
       "      <th>click_second_mod5</th>\n",
       "      <th>clicks_by_ip</th>\n",
       "      <th>downloads_by_ip</th>\n",
       "      <th>download_ratio_by_ip</th>\n",
       "      <th>clicks_by_app</th>\n",
       "      <th>downloads_by_app</th>\n",
       "      <th>download_ratio_by_app</th>\n",
       "      <th>clicks_by_device</th>\n",
       "      <th>downloads_by_device</th>\n",
       "      <th>download_ratio_by_device</th>\n",
       "      <th>clicks_by_os</th>\n",
       "      <th>downloads_by_os</th>\n",
       "      <th>download_ratio_by_os</th>\n",
       "      <th>clicks_by_channel</th>\n",
       "      <th>downloads_by_channel</th>\n",
       "      <th>download_ratio_by_channel</th>\n",
       "    </tr>\n",
       "  </thead>\n",
       "  <tbody>\n",
       "    <tr>\n",
       "      <th>0</th>\n",
       "      <td>12031</td>\n",
       "      <td>13</td>\n",
       "      <td>1</td>\n",
       "      <td>13</td>\n",
       "      <td>477</td>\n",
       "      <td>2017-11-08 06:13:45</td>\n",
       "      <td>0</td>\n",
       "      <td>6</td>\n",
       "      <td>13</td>\n",
       "      <td>45</td>\n",
       "      <td>13</td>\n",
       "      <td>0</td>\n",
       "      <td>22523</td>\n",
       "      <td>28</td>\n",
       "      <td>0.001243</td>\n",
       "      <td>4329409</td>\n",
       "      <td>721</td>\n",
       "      <td>0.000167</td>\n",
       "      <td>174330052</td>\n",
       "      <td>306495</td>\n",
       "      <td>0.001758</td>\n",
       "      <td>39782808</td>\n",
       "      <td>61622</td>\n",
       "      <td>0.001549</td>\n",
       "      <td>7188340</td>\n",
       "      <td>1212</td>\n",
       "      <td>0.000169</td>\n",
       "    </tr>\n",
       "    <tr>\n",
       "      <th>1</th>\n",
       "      <td>24847</td>\n",
       "      <td>12</td>\n",
       "      <td>1</td>\n",
       "      <td>9</td>\n",
       "      <td>178</td>\n",
       "      <td>2017-11-09 11:58:43</td>\n",
       "      <td>0</td>\n",
       "      <td>11</td>\n",
       "      <td>58</td>\n",
       "      <td>43</td>\n",
       "      <td>13</td>\n",
       "      <td>3</td>\n",
       "      <td>33597</td>\n",
       "      <td>22</td>\n",
       "      <td>0.000655</td>\n",
       "      <td>24179003</td>\n",
       "      <td>2640</td>\n",
       "      <td>0.000109</td>\n",
       "      <td>174330052</td>\n",
       "      <td>306495</td>\n",
       "      <td>0.001758</td>\n",
       "      <td>4370878</td>\n",
       "      <td>3189</td>\n",
       "      <td>0.000730</td>\n",
       "      <td>5271408</td>\n",
       "      <td>627</td>\n",
       "      <td>0.000119</td>\n",
       "    </tr>\n",
       "    <tr>\n",
       "      <th>2</th>\n",
       "      <td>23102</td>\n",
       "      <td>18</td>\n",
       "      <td>1</td>\n",
       "      <td>19</td>\n",
       "      <td>121</td>\n",
       "      <td>2017-11-08 14:43:57</td>\n",
       "      <td>0</td>\n",
       "      <td>14</td>\n",
       "      <td>43</td>\n",
       "      <td>57</td>\n",
       "      <td>13</td>\n",
       "      <td>2</td>\n",
       "      <td>13917</td>\n",
       "      <td>14</td>\n",
       "      <td>0.001006</td>\n",
       "      <td>15756587</td>\n",
       "      <td>7919</td>\n",
       "      <td>0.000503</td>\n",
       "      <td>174330052</td>\n",
       "      <td>306495</td>\n",
       "      <td>0.001758</td>\n",
       "      <td>44181914</td>\n",
       "      <td>79669</td>\n",
       "      <td>0.001803</td>\n",
       "      <td>4692438</td>\n",
       "      <td>2055</td>\n",
       "      <td>0.000438</td>\n",
       "    </tr>\n",
       "    <tr>\n",
       "      <th>3</th>\n",
       "      <td>43980</td>\n",
       "      <td>12</td>\n",
       "      <td>1</td>\n",
       "      <td>18</td>\n",
       "      <td>245</td>\n",
       "      <td>2017-11-08 00:02:07</td>\n",
       "      <td>0</td>\n",
       "      <td>0</td>\n",
       "      <td>2</td>\n",
       "      <td>7</td>\n",
       "      <td>2</td>\n",
       "      <td>2</td>\n",
       "      <td>2049</td>\n",
       "      <td>4</td>\n",
       "      <td>0.001952</td>\n",
       "      <td>24179003</td>\n",
       "      <td>2640</td>\n",
       "      <td>0.000109</td>\n",
       "      <td>174330052</td>\n",
       "      <td>306495</td>\n",
       "      <td>0.001758</td>\n",
       "      <td>8974159</td>\n",
       "      <td>11682</td>\n",
       "      <td>0.001302</td>\n",
       "      <td>8873025</td>\n",
       "      <td>829</td>\n",
       "      <td>0.000093</td>\n",
       "    </tr>\n",
       "    <tr>\n",
       "      <th>4</th>\n",
       "      <td>122830</td>\n",
       "      <td>1</td>\n",
       "      <td>1</td>\n",
       "      <td>13</td>\n",
       "      <td>115</td>\n",
       "      <td>2017-11-07 05:59:47</td>\n",
       "      <td>0</td>\n",
       "      <td>5</td>\n",
       "      <td>59</td>\n",
       "      <td>47</td>\n",
       "      <td>14</td>\n",
       "      <td>2</td>\n",
       "      <td>6888</td>\n",
       "      <td>11</td>\n",
       "      <td>0.001597</td>\n",
       "      <td>5796274</td>\n",
       "      <td>1230</td>\n",
       "      <td>0.000212</td>\n",
       "      <td>174330052</td>\n",
       "      <td>306495</td>\n",
       "      <td>0.001758</td>\n",
       "      <td>39782808</td>\n",
       "      <td>61622</td>\n",
       "      <td>0.001549</td>\n",
       "      <td>1384504</td>\n",
       "      <td>196</td>\n",
       "      <td>0.000142</td>\n",
       "    </tr>\n",
       "  </tbody>\n",
       "</table>\n",
       "</div>"
      ],
      "text/plain": [
       "       ip  app            ...              downloads_by_channel  download_ratio_by_channel\n",
       "0   12031   13            ...                              1212                   0.000169\n",
       "1   24847   12            ...                               627                   0.000119\n",
       "2   23102   18            ...                              2055                   0.000438\n",
       "3   43980   12            ...                               829                   0.000093\n",
       "4  122830    1            ...                               196                   0.000142\n",
       "\n",
       "[5 rows x 27 columns]"
      ]
     },
     "execution_count": 15,
     "metadata": {},
     "output_type": "execute_result"
    }
   ],
   "source": [
    "train.head()"
   ]
  },
  {
   "cell_type": "code",
   "execution_count": 16,
   "metadata": {
    "scrolled": false
   },
   "outputs": [
    {
     "name": "stdout",
     "output_type": "stream",
     "text": [
      "<class 'pandas.core.frame.DataFrame'>\n",
      "RangeIndex: 1000000 entries, 0 to 999999\n",
      "Data columns (total 27 columns):\n",
      "ip                           1000000 non-null int64\n",
      "app                          1000000 non-null int64\n",
      "device                       1000000 non-null int64\n",
      "os                           1000000 non-null int64\n",
      "channel                      1000000 non-null int64\n",
      "click_time                   1000000 non-null datetime64[ns]\n",
      "is_attributed                1000000 non-null int64\n",
      "click_hour                   1000000 non-null int64\n",
      "click_minute                 1000000 non-null int64\n",
      "click_second                 1000000 non-null int64\n",
      "click_minute_mod15           1000000 non-null int64\n",
      "click_second_mod5            1000000 non-null int64\n",
      "clicks_by_ip                 1000000 non-null int64\n",
      "downloads_by_ip              1000000 non-null int64\n",
      "download_ratio_by_ip         1000000 non-null float64\n",
      "clicks_by_app                1000000 non-null int64\n",
      "downloads_by_app             1000000 non-null int64\n",
      "download_ratio_by_app        1000000 non-null float64\n",
      "clicks_by_device             1000000 non-null int64\n",
      "downloads_by_device          1000000 non-null int64\n",
      "download_ratio_by_device     1000000 non-null float64\n",
      "clicks_by_os                 1000000 non-null int64\n",
      "downloads_by_os              1000000 non-null int64\n",
      "download_ratio_by_os         1000000 non-null float64\n",
      "clicks_by_channel            1000000 non-null int64\n",
      "downloads_by_channel         1000000 non-null int64\n",
      "download_ratio_by_channel    1000000 non-null float64\n",
      "dtypes: datetime64[ns](1), float64(5), int64(21)\n",
      "memory usage: 206.0 MB\n"
     ]
    }
   ],
   "source": [
    "train.info()"
   ]
  },
  {
   "cell_type": "code",
   "execution_count": 17,
   "metadata": {},
   "outputs": [
    {
     "name": "stdout",
     "output_type": "stream",
     "text": [
      "['ip', 'app', 'device', 'os', 'channel', 'click_time', 'is_attributed', 'click_hour', 'click_minute', 'click_second', 'click_minute_mod15', 'click_second_mod5', 'clicks_by_ip', 'downloads_by_ip', 'download_ratio_by_ip', 'clicks_by_app', 'downloads_by_app', 'download_ratio_by_app', 'clicks_by_device', 'downloads_by_device', 'download_ratio_by_device', 'clicks_by_os', 'downloads_by_os', 'download_ratio_by_os', 'clicks_by_channel', 'downloads_by_channel', 'download_ratio_by_channel']\n"
     ]
    }
   ],
   "source": [
    "print(list(train.columns))"
   ]
  },
  {
   "cell_type": "code",
   "execution_count": 18,
   "metadata": {
    "collapsed": true
   },
   "outputs": [],
   "source": [
    "cat_cols = ['ip', 'app', 'device', 'os', 'channel', 'click_minute_mod15', 'click_second_mod5']\n",
    "num_cols = ['click_hour', 'click_minute', 'click_second', \n",
    "            'clicks_by_ip', 'downloads_by_ip', 'download_ratio_by_ip', \n",
    "            'clicks_by_app', 'downloads_by_app', 'download_ratio_by_app', \n",
    "            'clicks_by_device', 'downloads_by_device', 'download_ratio_by_device', \n",
    "            'clicks_by_os', 'downloads_by_os', 'download_ratio_by_os', \n",
    "            'clicks_by_channel', 'downloads_by_channel', 'download_ratio_by_channel']\n",
    "target_col = 'is_attributed'"
   ]
  },
  {
   "cell_type": "markdown",
   "metadata": {},
   "source": [
    "### One-hot encode categorical features"
   ]
  },
  {
   "cell_type": "code",
   "execution_count": 19,
   "metadata": {
    "scrolled": false
   },
   "outputs": [
    {
     "data": {
      "text/plain": [
       "<matplotlib.axes._subplots.AxesSubplot at 0x2b704543320>"
      ]
     },
     "execution_count": 19,
     "metadata": {},
     "output_type": "execute_result"
    },
    {
     "data": {
      "image/png": "[encoded data removed]",
      "text/plain": [
       "<matplotlib.figure.Figure at 0x2b7045167b8>"
      ]
     },
     "metadata": {},
     "output_type": "display_data"
    }
   ],
   "source": [
    "from helper.plotting import plot_df_nunique\n",
    "plot_df_nunique(train, cat_cols, log_scale=True)"
   ]
  },
  {
   "cell_type": "markdown",
   "metadata": {},
   "source": [
    "[`label_binarize`](http://scikit-learn.org/stable/modules/generated/sklearn.preprocessing.label_binarize.html#sklearn.preprocessing.label_binarize) is good for\n",
    "> transformation for a fixed set of class labels known ahead of time"
   ]
  },
  {
   "cell_type": "code",
   "execution_count": 20,
   "metadata": {},
   "outputs": [
    {
     "name": "stdout",
     "output_type": "stream",
     "text": [
      "One-hot encode: ip\n",
      "One-hot encode: app\n",
      "One-hot encode: device\n",
      "One-hot encode: os\n",
      "One-hot encode: channel\n",
      "One-hot encode: click_minute_mod15\n",
      "One-hot encode: click_second_mod5\n"
     ]
    }
   ],
   "source": [
    "from sklearn.preprocessing import label_binarize\n",
    "from scipy import sparse\n",
    "\n",
    "train_onehot_ = {}\n",
    "test_onehot_ = {}\n",
    "\n",
    "for ft in cat_cols:\n",
    "    print('One-hot encode:', ft)\n",
    "    train_onehot_[ft] = label_binarize(train[ft], \n",
    "                                       classes=list(recurring_.get(ft) or np.sort(train[ft].unique())), \n",
    "                                       sparse_output=True\n",
    "                                      )\n",
    "    test_onehot_[ft] = label_binarize(test[ft],\n",
    "                                      classes=list(recurring_.get(ft) or np.sort(test[ft].unique())),\n",
    "                                      sparse_output=True\n",
    "                                     )\n",
    "\n",
    "train_onehot = sparse.hstack([train_onehot_[col] for col in cat_cols])\n",
    "test_onehot = sparse.hstack([test_onehot_[col] for col in cat_cols])"
   ]
  },
  {
   "cell_type": "markdown",
   "metadata": {},
   "source": [
    "### Combine numeric and categorical (onehot-encoded) features to big matrices"
   ]
  },
  {
   "cell_type": "code",
   "execution_count": 21,
   "metadata": {},
   "outputs": [
    {
     "name": "stdout",
     "output_type": "stream",
     "text": [
      "X_train shape: (1000000, 51224)\n",
      "y_train shape: (1000000,)\n",
      "Wall time: 1.23 s\n"
     ]
    }
   ],
   "source": [
    "%%time\n",
    "X_train = sparse.hstack((train[num_cols], train_onehot))\n",
    "y_train = train[target_col].values\n",
    "\n",
    "try:\n",
    "    del train\n",
    "except:\n",
    "    pass\n",
    "\n",
    "try:\n",
    "    del train_onehot\n",
    "except:\n",
    "    pass\n",
    "\n",
    "gc.collect()\n",
    "\n",
    "print('X_train shape:', X_train.shape)\n",
    "print('y_train shape:', y_train.shape)"
   ]
  },
  {
   "cell_type": "code",
   "execution_count": 22,
   "metadata": {},
   "outputs": [
    {
     "name": "stdout",
     "output_type": "stream",
     "text": [
      "X_test shape: (18790469, 51224)\n",
      "Wall time: 44.2 s\n"
     ]
    }
   ],
   "source": [
    "%%time\n",
    "X_test = sparse.hstack((test[num_cols], test_onehot))\n",
    "\n",
    "try:\n",
    "    del test\n",
    "except:\n",
    "    pass\n",
    "\n",
    "try:\n",
    "    del test_onehot\n",
    "except:\n",
    "    pass\n",
    "\n",
    "gc.collect()\n",
    "\n",
    "print('X_test shape:', X_test.shape)"
   ]
  },
  {
   "cell_type": "markdown",
   "metadata": {},
   "source": [
    "## Save data objects"
   ]
  },
  {
   "cell_type": "code",
   "execution_count": 23,
   "metadata": {},
   "outputs": [
    {
     "data": {
      "text/plain": [
       "scipy.sparse.coo.coo_matrix"
      ]
     },
     "metadata": {},
     "output_type": "display_data"
    },
    {
     "data": {
      "text/plain": [
       "numpy.ndarray"
      ]
     },
     "metadata": {},
     "output_type": "display_data"
    },
    {
     "data": {
      "text/plain": [
       "scipy.sparse.coo.coo_matrix"
      ]
     },
     "metadata": {},
     "output_type": "display_data"
    }
   ],
   "source": [
    "display(type(X_train))\n",
    "display(type(y_train))\n",
    "display(type(X_test))"
   ]
  },
  {
   "cell_type": "code",
   "execution_count": 25,
   "metadata": {},
   "outputs": [
    {
     "name": "stdout",
     "output_type": "stream",
     "text": [
      "Wall time: 2min 38s\n"
     ]
    }
   ],
   "source": [
    "%%time\n",
    "if not os.path.exists(os.path.join(SCRATCH_DIR, use_train_set)):\n",
    "    os.makedirs(os.path.join(SCRATCH_DIR, use_train_set))\n",
    "    \n",
    "sparse.save_npz(os.path.join(SCRATCH_DIR, use_train_set,'X_train.npz'), X_train)\n",
    "np.save(os.path.join(SCRATCH_DIR, use_train_set, 'y_train.npy'), y_train)\n",
    "sparse.save_npz(os.path.join(SCRATCH_DIR, 'X_test.npz'), X_test)"
   ]
  }
 ],
 "metadata": {
  "kernelspec": {
   "display_name": "Python 3",
   "language": "python",
   "name": "python3"
  },
  "language_info": {
   "codemirror_mode": {
    "name": "ipython",
    "version": 3
   },
   "file_extension": ".py",
   "mimetype": "text/x-python",
   "name": "python",
   "nbconvert_exporter": "python",
   "pygments_lexer": "ipython3",
   "version": "3.6.4"
  },
  "toc": {
   "nav_menu": {},
   "number_sections": true,
   "sideBar": true,
   "skip_h1_title": true,
   "toc_cell": true,
   "toc_position": {
    "height": "878px",
    "left": "0px",
    "right": "20px",
    "top": "111px",
    "width": "343px"
   },
   "toc_section_display": "block",
   "toc_window_display": true
  }
 },
 "nbformat": 4,
 "nbformat_minor": 2
}
